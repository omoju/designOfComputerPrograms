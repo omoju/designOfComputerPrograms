{
 "cells": [
  {
   "cell_type": "markdown",
   "metadata": {},
   "source": [
    "## Poker"
   ]
  },
  {
   "cell_type": "code",
   "execution_count": 1,
   "metadata": {
    "collapsed": true
   },
   "outputs": [],
   "source": [
    "def poker(hands):\n",
    "    \"Return the best hand: poker([hand,...]) => hand\"\n",
    "    return max(hands, key=hand_rank)"
   ]
  },
  {
   "cell_type": "code",
   "execution_count": 3,
   "metadata": {
    "collapsed": true
   },
   "outputs": [],
   "source": [
    "def hand_rank(hand):\n",
    "    \"Returns the hand rank\"\n",
    "    return None"
   ]
  },
  {
   "cell_type": "code",
   "execution_count": 4,
   "metadata": {
    "collapsed": false
   },
   "outputs": [
    {
     "name": "stdout",
     "output_type": "stream",
     "text": [
      "None\n"
     ]
    }
   ],
   "source": [
    "# -----------\n",
    "# User Instructions\n",
    "# \n",
    "# Modify the test() function to include two new test cases:\n",
    "# 1) four of a kind (fk) vs. full house (fh) returns fk.\n",
    "# 2) full house (fh) vs. full house (fh) returns fh.\n",
    "#\n",
    "\n",
    "\n",
    "def test():\n",
    "    \"Test cases for the functions in poker program\"\n",
    "    sf = \"6C 7C 8C 9C TC\".split() # => ['6C', '7C', '8C', '9C', 'TC']\n",
    "    fk = \"9D 9H 9S 9C 7D\".split() \n",
    "    fh = \"TD TC TH 7C 7D\".split()\n",
    "    assert poker([sf, fk, fh]) == sf\n",
    "    \n",
    "    # Add 2 new assert statements here. The first \n",
    "    # should check that when fk plays fh, fk \n",
    "    # is the winner. The second should confirm that\n",
    "    # fh playing against fh returns fh.\n",
    "    \n",
    "print test()"
   ]
  },
  {
   "cell_type": "code",
   "execution_count": null,
   "metadata": {
    "collapsed": true
   },
   "outputs": [],
   "source": []
  }
 ],
 "metadata": {
  "kernelspec": {
   "display_name": "Python 2",
   "language": "python",
   "name": "python2"
  },
  "language_info": {
   "codemirror_mode": {
    "name": "ipython",
    "version": 2
   },
   "file_extension": ".py",
   "mimetype": "text/x-python",
   "name": "python",
   "nbconvert_exporter": "python",
   "pygments_lexer": "ipython2",
   "version": "2.7.12"
  }
 },
 "nbformat": 4,
 "nbformat_minor": 0
}
